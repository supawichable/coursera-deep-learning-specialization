version https://git-lfs.github.com/spec/v1
oid sha256:ccfa82fe30f0cfe00259b21edb6d8bd83ab9ac66546a82727b1b506555a806ae
size 33736
