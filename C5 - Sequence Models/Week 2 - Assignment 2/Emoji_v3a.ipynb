version https://git-lfs.github.com/spec/v1
oid sha256:d5d46ac585ef78d8ea24a6025fa8ed4aaa85953ffff7c641c27a30dcea7759ef
size 101285
