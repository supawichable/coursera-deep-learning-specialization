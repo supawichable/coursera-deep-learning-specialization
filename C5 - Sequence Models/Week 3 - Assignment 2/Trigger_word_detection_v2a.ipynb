version https://git-lfs.github.com/spec/v1
oid sha256:514df1589e621061ea2e1d1f73949bc86eda3a1fc37ca78541a69d7e9fd1494f
size 24429337
